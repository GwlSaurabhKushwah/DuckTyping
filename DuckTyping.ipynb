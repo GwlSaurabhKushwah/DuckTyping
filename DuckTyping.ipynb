{
 "cells": [
  {
   "cell_type": "code",
   "execution_count": 1,
   "id": "ddbe1add",
   "metadata": {},
   "outputs": [],
   "source": [
    "# import ipynb\n",
    "%run Questions_Functions.ipynb  # I import ipynb file here where all the functions defined."
   ]
  },
  {
   "cell_type": "code",
   "execution_count": 2,
   "id": "9f447165",
   "metadata": {},
   "outputs": [
    {
     "name": "stdout",
     "output_type": "stream",
     "text": [
      "Enter question number you want  to Access: 9\n",
      "Q9:- Calculate income tax for the input income by adhering to the Indian rules.\n",
      "Enter your income: 10\n",
      "You have to pay:  0\n"
     ]
    }
   ],
   "source": [
    "d= {1: ques1,2:ques2,3: ques3,4:ques4,5:ques5,6: ques6,7:ques7,8: ques8,9:ques9,10:ques10,\n",
    "    11: ques11,12:ques12,13: ques13,14:ques14,15:ques15,16: ques16,17:ques17,18: ques18,19:ques19,20:ques20} # create adictionary of  functions.\n",
    "\n",
    "choice = int(input(\"Enter question number you want  to Access: \")) #Taking input\n",
    "d[choice]()    # Here Duck Typing Perform "
   ]
  },
  {
   "cell_type": "code",
   "execution_count": null,
   "id": "2f574fab",
   "metadata": {},
   "outputs": [],
   "source": []
  },
  {
   "cell_type": "code",
   "execution_count": null,
   "id": "87a20d2a",
   "metadata": {},
   "outputs": [],
   "source": []
  }
 ],
 "metadata": {
  "kernelspec": {
   "display_name": "Python 3 (ipykernel)",
   "language": "python",
   "name": "python3"
  },
  "language_info": {
   "codemirror_mode": {
    "name": "ipython",
    "version": 3
   },
   "file_extension": ".py",
   "mimetype": "text/x-python",
   "name": "python",
   "nbconvert_exporter": "python",
   "pygments_lexer": "ipython3",
   "version": "3.10.11"
  }
 },
 "nbformat": 4,
 "nbformat_minor": 5
}
